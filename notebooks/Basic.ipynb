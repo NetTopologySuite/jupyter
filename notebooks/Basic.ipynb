{
 "cells": [
  {
   "cell_type": "markdown",
   "metadata": {},
   "source": [
    "In order to use `NetTopologySuite` (NTS) you need to install the nuget package."
   ]
  },
  {
   "cell_type": "code",
   "execution_count": null,
   "metadata": {
    "vscode": {
     "languageId": "plaintext"
    }
   },
   "outputs": [],
   "source": [
    "#r \"nuget:NetTopologySuite\""
   ]
  },
  {
   "cell_type": "markdown",
   "metadata": {},
   "source": [
    "Set up `NtsGeometryServices` according to needs"
   ]
  },
  {
   "cell_type": "code",
   "execution_count": null,
   "metadata": {
    "vscode": {
     "languageId": "plaintext"
    }
   },
   "outputs": [],
   "source": [
    "NetTopologySuite.NtsGeometryServices.Instance = new NetTopologySuite.NtsGeometryServices(\n",
    "    // default CoordinateSequenceFactory\n",
    "    NetTopologySuite.Geometries.Implementation.CoordinateArraySequenceFactory.Instance,\n",
    "    // default precision model\n",
    "    new NetTopologySuite.Geometries.PrecisionModel(1000d),\n",
    "    // default SRID\n",
    "    25832, \n",
    "    /********************************************************************\n",
    "     * Note: the following arguments are only valid for NTS >= v2.2\n",
    "     ********************************************************************/\n",
    "    // Geometry overlay operation function set to use (Legacy or NG)\n",
    "    NetTopologySuite.Geometries.GeometryOverlay.NG,\n",
    "    // Coordinate equality comparer to use (CoordinateEqualityComparer or PerOrdinateEqualityComparer)\n",
    "    new NetTopologySuite.Geometries.CoordinateEqualityComparer());"
   ]
  }
 ],
 "metadata": {
  "language_info": {
   "name": "python"
  }
 },
 "nbformat": 4,
 "nbformat_minor": 2
}
