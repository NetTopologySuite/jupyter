{
 "cells": [
  {
   "cell_type": "markdown",
   "id": "ed02a323",
   "metadata": {},
   "source": [
    "## Getting Started\n",
    "\n",
    "### Setting up the environment\n",
    "\n",
    "In order to use `NetTopologySuite` (NTS) you need to install the nuget package."
   ]
  },
  {
   "cell_type": "code",
   "execution_count": null,
   "id": "dd943919",
   "metadata": {},
   "outputs": [],
   "source": [
    "#r \"nuget:NetTopologySuite, 2.3.0\""
   ]
  },
  {
   "cell_type": "markdown",
   "id": "39712e28",
   "metadata": {},
   "source": [
    "To make using NTS a pleasant experience you should set up the environment to according to your needs first.\n",
    "This is done by setting `NtsGeometryServices.Instance` to an instance configured to your needs."
   ]
  },
  {
   "cell_type": "code",
   "execution_count": null,
   "id": "8085a8f3",
   "metadata": {},
   "outputs": [],
   "source": [
    "NetTopologySuite.NtsGeometryServices.Instance = new NetTopologySuite.NtsGeometryServices(\n",
    "    // default CoordinateSequenceFactory\n",
    "    NetTopologySuite.Geometries.Implementation.CoordinateArraySequenceFactory.Instance,\n",
    "    // default precision model\n",
    "    new NetTopologySuite.Geometries.PrecisionModel(1000d),\n",
    "    // default SRID\n",
    "    4326, \n",
    "    /********************************************************************\n",
    "     * Note: the following arguments are only valid for NTS >= v2.2\n",
    "     ********************************************************************/\n",
    "    // Geometry overlay operation function set to use (Legacy or NG)\n",
    "    NetTopologySuite.Geometries.GeometryOverlay.NG,\n",
    "    // Coordinate equality comparer to use (CoordinateEqualityComparer or PerOrdinateEqualityComparer)\n",
    "    new NetTopologySuite.Geometries.CoordinateEqualityComparer());"
   ]
  },
  {
   "cell_type": "markdown",
   "id": "af002ce7",
   "metadata": {},
   "source": [
    "This is the most flexible constructor you can use, there are convenient constructors with less options.\n",
    "\n",
    "**Note:** If you skip this step, a pre-configured instance will be used with the following values:\n",
    "\n",
    "Property | Value\n",
    "--- | ---\n",
    "`DefaultCoordinateSequenceFactory` | `NetTopologySuite.Geometries.Implementation.CoordinateArraySequenceFactory.Instance`\n",
    "`DefaultPrecisionModel` | `NetTopologySuite.Geometries.PrecisionModels.Floating`\n",
    "`DefaultSRID` | `-1`\n",
    "`GeometryOverlay` | `NetTopologySuite.Geometries.GeometryOverlay.Legacy`\n",
    "`CoordinateEqualityComparer` | `NetTopologySuite.Geometries.CoordinateEqualityComparer`"
   ]
  },
  {
   "cell_type": "markdown",
   "id": "be6293df",
   "metadata": {},
   "source": [
    "### Creating geometries\n",
    "\n",
    "`NetTopologySuite` provides 7 `Geometry` classes. Geometries are made up of `Coordinate`s which are combined in `CoordinateSequence`s.\n",
    "* `Point`  \n",
    "  A geometry made up of a single  coordinate.\n",
    "* `LineString`  \n",
    "  A geometry made up of a sequence of successive points.\n",
    "  A `LinearRing` is a special case of a closed `LineString`\n",
    "* `Polygon`   \n",
    "  A geometry made up of a shell (aka exterior ring) and possibly holes (aka InteriorRing).\n",
    "  The shell and each hole is a `LinearRing` geometry.\n",
    "* `MultiPoint`   \n",
    "  A geometry made up of multiple points\n",
    "* `MultiLineString`   \n",
    "  A geometry made up of multiple linestrings\n",
    "* `MultiPolygon`   \n",
    "  A geometry made up of multiple polygons\n",
    "* `GeometryCollection`   \n",
    "  A geometry made up of multiple single-geometry items. \n",
    "\n",
    "While each Geometry class has a public constructor the usage is not encouraged. You should use a `GeometryFactory` instead.\n",
    "You can optain a geometry factory by requesting one from `NetTopologySuite.NtsGeometryServices.Instance`:"
   ]
  },
  {
   "cell_type": "code",
   "execution_count": null,
   "id": "92de382a",
   "metadata": {},
   "outputs": [],
   "source": [
    "// Get a geometry factor from configured NtsGemetryServices.\n",
    "// Differing from NtsGeometryServices.DefaultSRID we want one with SRID=4326\n",
    "var gf = NetTopologySuite.NtsGeometryServices.Instance.CreateGeometryFactory(4326);"
   ]
  },
  {
   "cell_type": "markdown",
   "id": "25f75813",
   "metadata": {},
   "source": [
    "You can now use this factory to create e.g. puntal geometries:"
   ]
  },
  {
   "cell_type": "code",
   "execution_count": null,
   "id": "dc5d5d54",
   "metadata": {},
   "outputs": [],
   "source": [
    "// Create a point at Aurich (lat=53.4837, long=7.5404)\n",
    "var pntAUR = gf.CreatePoint(new NetTopologySuite.Geometries.Coordinate(7.5404, 53.4837));\n",
    "// Create a point at Emden (lat=53.3646, long=7.1559)\n",
    "var pntLER = gf.CreatePoint(new NetTopologySuite.Geometries.Coordinate(7.1559, 53.3646));\n",
    "// Create a point at Leer (lat=53.2476, long=7.4550)\n",
    "var pntEMD = gf.CreatePoint(new NetTopologySuite.Geometries.Coordinate(7.4550, 53.2476));"
   ]
  },
  {
   "cell_type": "code",
   "execution_count": null,
   "id": "e650e727",
   "metadata": {},
   "outputs": [],
   "source": [
    "System.Console.WriteLine(pntLER.Distance(pntAUR));"
   ]
  },
  {
   "cell_type": "markdown",
   "id": "a550342f",
   "metadata": {},
   "source": [
    "To create lineal geometries you need to provide a series of `Coordinate`s."
   ]
  },
  {
   "cell_type": "code",
   "execution_count": null,
   "id": "3f758e0d",
   "metadata": {},
   "outputs": [],
   "source": [
    "// Create a linestring from Aurich to Emden\n",
    "var lnsAURToEMD = gf.CreateLineString(new [] {\n",
    "    new NetTopologySuite.Geometries.Coordinate(7.5404, 53.4837),\n",
    "    new NetTopologySuite.Geometries.Coordinate(7.1559, 53.3646)\n",
    "});\n",
    "\n",
    "var lnsAURtoLER = gf.CreateLineString(new[] {\n",
    "    new NetTopologySuite.Geometries.Coordinate(7.5404, 53.4837),\n",
    "    new NetTopologySuite.Geometries.Coordinate(7.4550, 53.2476)\n",
    "});"
   ]
  },
  {
   "cell_type": "markdown",
   "id": "4a9732c6",
   "metadata": {},
   "source": [
    "Polygons can be created by providing a set of shell-ring `Coordinate`s or by providing the ring itself."
   ]
  },
  {
   "cell_type": "code",
   "execution_count": null,
   "id": "7aafacd2",
   "metadata": {},
   "outputs": [],
   "source": [
    "// Create a polygon from Aurich over Emden, Leer to Aurich\n",
    "var ply1 = gf.CreatePolygon(new[] {\n",
    "    new NetTopologySuite.Geometries.Coordinate(7.5404, 53.4837),\n",
    "    new NetTopologySuite.Geometries.Coordinate(7.1559, 53.3646),\n",
    "    new NetTopologySuite.Geometries.Coordinate(7.4550, 53.2476),\n",
    "    new NetTopologySuite.Geometries.Coordinate(7.5404, 53.4837),\n",
    "});\n",
    "\n",
    "// Alternativly you can build this polygon by building a LinearRing first.\n",
    "// A LinearRing requires 4 coordinates and 1st and last coordinate must be equal!\n",
    "var lnr = gf.CreateLinearRing(new[] {\n",
    "    new NetTopologySuite.Geometries.Coordinate(7.5404, 53.4837),\n",
    "    new NetTopologySuite.Geometries.Coordinate(7.1559, 53.3646),\n",
    "    new NetTopologySuite.Geometries.Coordinate(7.4550, 53.2476),\n",
    "    new NetTopologySuite.Geometries.Coordinate(7.5404, 53.4837),\n",
    "});\n",
    "var ply2 = gf.CreatePolygon(lnr);"
   ]
  },
  {
   "cell_type": "markdown",
   "id": "42ae23ad",
   "metadata": {},
   "source": [
    "There are `MULTI` types for the introduced single instance types."
   ]
  },
  {
   "cell_type": "code",
   "execution_count": null,
   "id": "29240c1d",
   "metadata": {},
   "outputs": [],
   "source": [
    "// Multi Geometries are build by passing arrays of geometries\n",
    "var mpnt = gf.CreateMultiPoint(new[] {pntAUR, pntLER, pntEMD});\n",
    "var mlns = gf.CreateMultiLineString(new[] { lnsAURToEMD, lnsAURtoLER });\n",
    "var mpoly = gf.CreateMultiPolygon(new[] { ply1 });"
   ]
  },
  {
   "cell_type": "markdown",
   "id": "1aa8eaa9",
   "metadata": {},
   "source": [
    "Last there is a collection of arbitrary geometry types."
   ]
  },
  {
   "cell_type": "code",
   "execution_count": null,
   "id": "0ff17973",
   "metadata": {},
   "outputs": [],
   "source": [
    "// A geometry collection\n",
    "var gc = gf.CreateGeometryCollection(\n",
    "    new NetTopologySuite.Geometries.Geometry[]\n",
    "    { pntAUR, lnsAURToEMD, pntEMD, ply2, pntLER, lnsAURtoLER });"
   ]
  },
  {
   "cell_type": "markdown",
   "id": "8966317c",
   "metadata": {},
   "source": [
    "Instead of using `Coordinate` class you can also use one of its derivates:\n",
    "* `CoordinateZ` for 3D coordinates.\n",
    "* `CoordinateM` for 2D coordinates with an additional measure value.\n",
    "* `CoordinateZM` for 3D coordinates with an additional measure value.\n",
    "\n",
    "Or you can create a `CoordinateSequence` and build the single-instance geometries using that:"
   ]
  },
  {
   "cell_type": "code",
   "execution_count": null,
   "id": "f1424300",
   "metadata": {},
   "outputs": [],
   "source": [
    "// Create coordinate sequence\n",
    "var cs = gf.CoordinateSequenceFactory.Create(1, NetTopologySuite.Geometries.Ordinates.XYM);\n",
    "cs.SetX(0, 7.5404);\n",
    "cs.SetY(0, 53.4837);\n",
    "cs.SetM(0, 5432);\n",
    "var tpAUR2 = gf.CreatePoint(cs);"
   ]
  },
  {
   "cell_type": "markdown",
   "id": "28e2cfac",
   "metadata": {},
   "source": [
    "While all `Geometry` classes are marked with `SerializeableAttribute` using this form of serialization is\n",
    "not the preferred way of dealing with persistance.\n",
    "\n",
    "Out of the box the [`NetTopologySuite`](https://www.nuget.org/packages/NetTopologySuite/) package provides\n",
    "reader and writer classes for the `Well-known-text` (WKT) and `Well-known-binary` (WKB) format.\n",
    "\n",
    "#### Well-known-text"
   ]
  },
  {
   "cell_type": "code",
   "execution_count": null,
   "id": "c275552e",
   "metadata": {},
   "outputs": [],
   "source": [
    "const string wkt = \"POINT M(7.5404 53.4837 5432)\";\n",
    "var rdr = new NetTopologySuite.IO.WKTReader();\n",
    "\n",
    "var ptAUR = rdr.Read(wkt);\n",
    "\n",
    "var wrt = new NetTopologySuite.IO.WKTWriter();\n",
    "wrt.OutputOrdinates = NetTopologySuite.Geometries.Ordinates.AllOrdinates;\n",
    "string wktOut = wrt.Write(ptAUR);\n",
    "System.Console.WriteLine(wktOut);\n",
    "\n",
    "// or plainly for strictly 2D geometries!\n",
    "wktOut = ptAUR.AsText();\n",
    "wktOut = ptAUR.ToString();\n",
    "System.Console.WriteLine(wktOut);"
   ]
  },
  {
   "cell_type": "markdown",
   "id": "f9cf2e53",
   "metadata": {},
   "source": [
    "#### Well-known-binary"
   ]
  },
  {
   "cell_type": "code",
   "execution_count": null,
   "id": "880d374f",
   "metadata": {},
   "outputs": [],
   "source": [
    "byte[] wkb = NetTopologySuite.IO.WKBReader.HexToBytes(\n",
    "    \"01B90B00E0E8640000295C8FC2F5281E40CBA145B6F3BD4A40000000000000F8FF000000000038B540\");\n",
    "var rdr = new NetTopologySuite.IO.WKBReader {\n",
    "    HandleOrdinates = NetTopologySuite.Geometries.Ordinates.AllOrdinates,\n",
    "    HandleSRID = true };\n",
    "\n",
    "var ptAUR = rdr.Read(wkb);\n",
    "\n",
    "var wrt = new NetTopologySuite.IO.WKBWriter(NetTopologySuite.IO.ByteOrder.LittleEndian,\n",
    "    /* emit SRID */ true, /* emit Z */ true, /* emit M */ true);\n",
    "byte[] wkbOut = wrt.Write(ptAUR);\n",
    "System.Console.WriteLine(ptAUR);\n",
    "System.Console.WriteLine(NetTopologySuite.IO.WKBWriter.ToHex(wkbOut));"
   ]
  },
  {
   "cell_type": "markdown",
   "id": "725e92ed",
   "metadata": {},
   "source": [
    "#### Other projects/packages\n",
    "\n",
    "There are seperate packages for reading and writing NetTopologySuite's `Geometry` classes:\n",
    "* [`NetTopologySuite.IO.GeoJSON`](https://github.com/NetTopologySuite/NetTopologySuite.IO.GeoJSON)   \n",
    "  This project actually offers two packages to read and write geometries each using a different support library for serializing JSON.\n",
    "  * [`NetTopologySuite.IO.GeoJSON`](https://www.nuget.org/packages/NetTopologySuite.IO.GeoJSON/) using `Newtonsoft.Json`\n",
    "  * [`NetTopologySuite.IO.GeoJSON4STJ`](https://www.nuget.org/packages/NetTopologySuite.IO.GeoJSON4STJ/) using `System.Text.Json`\n",
    "* [`NetTopologySuite.IO.SqlServerBytes`](https://github.com/NetTopologySuite/NetTopologySuite.IO.SqlServerBytes)\n",
    "* [`NetTopologySuite.IO.ShapeFile`](https://github.com/NetTopologySuite/NetTopologySuite.IO.ShapeFile)\n",
    "* [`NetTopologySuite.IO.PostGis`](https://github.com/NetTopologySuite/NetTopologySuite.IO.PostGis)\n",
    "* [`NetTopologySuite.IO.TinyWKB`](https://github.com/NetTopologySuite/NetTopologySuite.IO.TinyWKB)"
   ]
  },
  {
   "cell_type": "markdown",
   "id": "6f77efa4",
   "metadata": {},
   "source": []
  },
  {
   "cell_type": "markdown",
   "id": "1798b81d",
   "metadata": {},
   "source": [
    "### Spatial predicates\n",
    "NetTopologySuite's `Geometry` classes support the following predicates as defined in the _OpenGIS® Implementation Standard for Geographic information - Simple feature access - Part 1: Common architecture_.\n",
    "\n",
    "\n",
    "##### Equals\n",
    "Evaluates to `true` if a geometry is _spatially_ equal to another geometry.\n",
    "```C#\n",
    "// As defined in SFA-Common\n",
    "bool equalSfs = geom.EqualsTopologically(otherGeom)\n",
    "// As required for .Net. 'EqualsExact' is called by overload of object.Equals(object obj)\n",
    "bool equalNet = geom.EqualsExact(otherGeom/*, tolerance*/)\n",
    "```\n",
    "\n",
    "##### Disjoint\n",
    "Evaluates to `true` if a geometry is _spatially_ disjoint to another geometry. This equivalent to negating the return value of an intersection test. \n",
    "```C#\n",
    "bool disjoint = geom.Disjoint(otherGeom)\n",
    "```\n",
    "\n",
    "##### Intersects\n",
    "Evaluates to `true` if a geometry _spatially_ intersects another geometry.\n",
    "```C#\n",
    "bool intersects = geom.Intersects(otherGeom)\n",
    "```\n",
    "\n",
    "##### Touches\n",
    "Evaluates to `true` if a geometry _spatially_ touches another geometry.\n",
    "```C#\n",
    "bool touches = geom.Touches(otherGeom);\n",
    "```\n",
    "\n",
    "##### Crosses\n",
    "Evaluates to `true` if a geometry _spatially_ crosses another geometry.\n",
    "```C#\n",
    "bool crosses = geom.Crosses(otherGeom);\n",
    "```\n",
    "\n",
    "##### Within\n",
    "Evaluates to `true` if a geometry is _spatially_ within another geometry.\n",
    "```C#\n",
    "bool within = geom.Within(otherGeom);\n",
    "```\n",
    "\n",
    "##### Contains\n",
    "Evaluates to `true` if a geometry _spatially_ contains another geometry.\n",
    "```C#\n",
    "bool contains = geom.Contains(otherGeom);\n",
    "```\n",
    "\n",
    "##### Overlaps\n",
    "Evaluates to `true` if a geometry _spatially_ overlaps another geometry.\n",
    "```C#\n",
    "bool overlaps = geom.Overlaps(otherGeom);\n",
    "```\n",
    "\n",
    "##### Relate\n",
    "Evaluates the relationship between a geometry and another geometry\n",
    "(see [DE-9IM](https://en.wikipedia.org/wiki/DE-9IM)).   \n",
    "An overload of this function tests if an\n",
    "assumed intersection matrix correctly describes the relationship.\n",
    "```C#\n",
    "var im = geom.Relate(otherGeom);\n",
    "bool relate = geom.Relate(otherGeom, im.ToString());\n",
    "```\n",
    "\n",
    "It is worth noting that for 1:M predicate checks there are utility classes in `NetTopologySuite.Geometries.Prepared` namespace.\n",
    "```C#\n",
    "var prepGeom = NetTopologySuite.Geometries.Prepared.PreparedGeometryFactory.Prepare(geom);\n",
    "foreach (var geomItem in geometries)\n",
    "{\n",
    "    // instead of 'Intersects' there are also\n",
    "    // the other normal predicates except 'Relate',\n",
    "    // plus 'ContainsProperly'\n",
    "    if (prepGeom.Intersects(geomItem))\n",
    "    {\n",
    "        // do sth. with geomItem\n",
    "    }\n",
    "}\n",
    "```"
   ]
  },
  {
   "cell_type": "markdown",
   "id": "6efd971e",
   "metadata": {},
   "source": [
    "### Spatial operations\n",
    "The following examples assume we have a `WKTReader` like"
   ]
  },
  {
   "cell_type": "code",
   "execution_count": null,
   "id": "3c06a555",
   "metadata": {},
   "outputs": [],
   "source": [
    "var rdr = new NetTopologySuite.IO.WKTReader();"
   ]
  },
  {
   "cell_type": "markdown",
   "id": "31c337af",
   "metadata": {},
   "source": [
    "##### Intersection"
   ]
  },
  {
   "cell_type": "code",
   "execution_count": null,
   "id": "bfde59ac",
   "metadata": {},
   "outputs": [],
   "source": [
    "const string wktPoly1 = \"POLYGON ((10 10, 10 30, 30 30, 30 10, 10 10))\";\n",
    "const string wktPoly2 = \"POLYGON ((20 20, 20 40, 40 40, 40 20, 20 20))\";\n",
    "var poly1 = rdr.Read(wktPoly1);\n",
    "var poly2 = rdr.Read(wktPoly2);\n",
    "\n",
    "// Should be POLYGON ((20 30, 30 30, 30 20, 20 20, 20 30))\n",
    "var polyInt = poly1.Intersection(poly2);\n",
    "System.Console.WriteLine(polyInt.AsText())"
   ]
  },
  {
   "cell_type": "markdown",
   "id": "2e8f36d6",
   "metadata": {},
   "source": [
    "##### Difference"
   ]
  },
  {
   "cell_type": "code",
   "execution_count": null,
   "id": "05c4b456",
   "metadata": {},
   "outputs": [],
   "source": [
    "// Should be POLYGON ((10 10, 10 30, 20 30, 20 20, 30 20, 30 10, 10 10))\n",
    "var polyDiff = poly1.Difference(poly2);\n",
    "System.Console.WriteLine(polyDiff.AsText());\n",
    "\n",
    "const string wktLine1 = \"LINESTRING (5 15, 15 25, 35 20)\";\n",
    "const string wktLine2 = \"LINESTRING (15 25, 35 20, 40 21)\";\n",
    "var ln1 = rdr.Read(wktLine1);\n",
    "var ln2 = rdr.Read(wktLine2);\n",
    "\n",
    "// Should be LINESTRING(5 15, 15 25)\n",
    "var lnDiff = ln1.Difference(ln2);\n",
    "System.Console.WriteLine(lnDiff.AsText())"
   ]
  },
  {
   "cell_type": "markdown",
   "id": "88d04911",
   "metadata": {},
   "source": [
    "##### SymmetricDifference"
   ]
  },
  {
   "cell_type": "code",
   "execution_count": null,
   "id": "9a8f42cf",
   "metadata": {},
   "outputs": [],
   "source": [
    "// Should be MULTILINESTRING((5 15, 15 25), (35 20, 40 21))\n",
    "var lnSymDiff = ln1.SymmetricDifference(ln2);\n",
    "System.Console.WriteLine(lnSymDiff.AsText())"
   ]
  },
  {
   "cell_type": "markdown",
   "id": "431d12c2",
   "metadata": {},
   "source": [
    "##### Union"
   ]
  },
  {
   "cell_type": "code",
   "execution_count": null,
   "id": "c3a50914",
   "metadata": {},
   "outputs": [],
   "source": [
    "// Should be POLYGON ((10 10, 10 30, 20 30, 20 40, 40 40, 40 20, 30 20, 30 10, 10 10))\n",
    "var polyUnion = poly1.Union(poly2);\n",
    "System.Console.WriteLine(polyUnion);\n",
    "\n",
    "// Should be GEOMETRYCOLLECTION (\n",
    "//    LINESTRING (5 15, 10 20), \n",
    "//    POLYGON ((10 10, 10 20, 10 30, 20 30, 20 40, 40 40, 40 21, 40 20, 35 20, 30 20, 30 10, 10 10)))\n",
    "var allUnion = poly1.Factory.CreateGeometryCollection(\n",
    "    new NetTopologySuite.Geometries.Geometry[]\n",
    "    {\n",
    "        poly1, poly2, ln1, ln2\n",
    "    }).Union();\n",
    "System.Console.WriteLine(allUnion);"
   ]
  },
  {
   "cell_type": "markdown",
   "id": "950feee4",
   "metadata": {},
   "source": [
    "##### Buffer"
   ]
  },
  {
   "cell_type": "code",
   "execution_count": null,
   "id": "de92936e",
   "metadata": {},
   "outputs": [],
   "source": [
    "const string wktPoint = \"POINT (15 15)\";\n",
    "var pt = rdr.Read(wktPoint);\n",
    "// Create a buffer around a point with distance of 2d\n",
    "var ptBuffer = pt.Buffer(2);\n",
    "System.Console.WriteLine(ptBuffer.AsText())"
   ]
  },
  {
   "cell_type": "markdown",
   "id": "7cfbd14c",
   "metadata": {},
   "source": [
    "##### ConvexHull"
   ]
  },
  {
   "cell_type": "code",
   "execution_count": null,
   "id": "8d56ed29",
   "metadata": {},
   "outputs": [],
   "source": [
    "// Should be POLYGON ((10 10, 30 10, 40 20, 40 40, 20 40, 10 30, 10 10))\n",
    "var ch = polyUnion.ConvexHull();\n",
    "System.Console.WriteLine(ch.AsText())"
   ]
  },
  {
   "cell_type": "markdown",
   "id": "4741a093",
   "metadata": {},
   "source": [
    "##### PointOnSurface"
   ]
  },
  {
   "cell_type": "code",
   "execution_count": null,
   "id": "12f9faa4",
   "metadata": {},
   "outputs": [],
   "source": [
    "// Should be POINT (25 25)\n",
    "var pos = polyUnion.PointOnSurface;\n",
    "System.Console.WriteLine(pos.AsText())"
   ]
  },
  {
   "cell_type": "markdown",
   "id": "7039874f",
   "metadata": {},
   "source": [
    "### Invalid Geometries  \n",
    "Sometimes you will meet invalid geometries (`Geometry.IsValid == false`).\n",
    "These will cause issues while further processing them. Starting with NTS v2.4 you can use `NetTopologySuite.Geometries.Utilities.GeometryFixer` to fix these invalidities.\n",
    "```C#\n",
    "if (!geom.IsValid)\n",
    "    geom = NetTopologySuite.Geometries.Utilities.GeometryFixer.Fix(geom);\n",
    "```\n",
    "\n",
    "In previous versions one option to fix these geometries was to use the _Buffer0_ trick:\n",
    "```C#\n",
    "if (!geom.IsValid)\n",
    "    geom = geom.Buffer(0);\n",
    "```"
   ]
  }
 ],
 "metadata": {
  "kernelspec": {
   "display_name": ".NET (C#)",
   "language": "C#",
   "name": ".net-csharp"
  },
  "language_info": {
   "file_extension": ".cs",
   "mimetype": "text/x-csharp",
   "name": "C#",
   "pygments_lexer": "csharp",
   "version": "9.0"
  }
 },
 "nbformat": 4,
 "nbformat_minor": 5
}
